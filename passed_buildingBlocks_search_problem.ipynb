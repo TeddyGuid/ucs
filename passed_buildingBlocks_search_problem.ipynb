{
 "cells": [
  {
   "cell_type": "markdown",
   "id": "d11eabb6",
   "metadata": {},
   "source": [
    "<center><h1><b> A Transportation Problem with UCS</b></h1></center>"
   ]
  },
  {
   "cell_type": "markdown",
   "id": "593e8d6b",
   "metadata": {},
   "source": [
    "Consider a long street with blocks numbered from 1 to N.<br>\n",
    "Walking from block i to block (i + 1) takes 1 minute.<br>\n",
    "Taking a magic tram takes you from block i to block 2i in 2 minutes.<br> \n",
    "We want to travel from 1 to N in the shortest amount of time."
   ]
  },
  {
   "cell_type": "markdown",
   "id": "fecebf58",
   "metadata": {},
   "source": [
    "## Libraries"
   ]
  },
  {
   "cell_type": "code",
   "execution_count": 53,
   "id": "061c3f44",
   "metadata": {},
   "outputs": [],
   "source": [
    "import copy\n",
    "from enum import Enum"
   ]
  },
  {
   "cell_type": "markdown",
   "id": "406793a7",
   "metadata": {},
   "source": [
    "## States"
   ]
  },
  {
   "cell_type": "code",
   "execution_count": 54,
   "id": "c55293dd",
   "metadata": {},
   "outputs": [],
   "source": [
    "initialState={\"parent\":None,\"position\":1,\"cost\":0 ,\"by\":None}\n",
    "finalState={\"parent\":None,\"position\":10,\"cost\":None, \"by\":None}"
   ]
  },
  {
   "cell_type": "markdown",
   "id": "02586792",
   "metadata": {},
   "source": [
    "# Validity Of A Position"
   ]
  },
  {
   "cell_type": "code",
   "execution_count": 55,
   "id": "e1e286ab",
   "metadata": {},
   "outputs": [],
   "source": [
    "def safe_position(position,goal=finalState[\"position\"]):\n",
    "    if( position[\"position\"] <= goal ):\n",
    "        return True\n",
    "    else:\n",
    "        return False"
   ]
  },
  {
   "cell_type": "markdown",
   "id": "39fa903e",
   "metadata": {},
   "source": [
    "## Actions"
   ]
  },
  {
   "cell_type": "code",
   "execution_count": 56,
   "id": "0d3cf019",
   "metadata": {},
   "outputs": [],
   "source": [
    "class Actions(Enum):\n",
    "    A1=\"walk\"\n",
    "    A2=\"magic_tram\""
   ]
  },
  {
   "cell_type": "code",
   "execution_count": 57,
   "id": "93f3f702",
   "metadata": {},
   "outputs": [],
   "source": [
    "def action(position,typeOfAction):\n",
    "    #position==the current state\n",
    "    #typeOfAction is either walk or magic_tram\n",
    "    pos={}\n",
    "    if typeOfAction=='walk':\n",
    "        pos[\"parent\"]=position[\"position\"]\n",
    "        pos[\"position\"]=position[\"position\"]+1\n",
    "        pos[\"cost\"]=position[\"cost\"]+1\n",
    "        pos[\"by\"]=\"walk\"\n",
    "        return pos\n",
    "    else:\n",
    "        pos[\"parent\"]=position[\"position\"]\n",
    "        pos[\"position\"]=position[\"position\"]*2\n",
    "        pos[\"cost\"]=position[\"cost\"]+2\n",
    "        pos[\"by\"]=\"magic_tram\"\n",
    "        return pos\n",
    "        \n",
    "    \n",
    "\n",
    "        "
   ]
  },
  {
   "cell_type": "code",
   "execution_count": 58,
   "id": "7240cea4",
   "metadata": {},
   "outputs": [],
   "source": [
    "def nextPosition(position):\n",
    "    succ=[]\n",
    "    for a in Actions:\n",
    "        generatedPosition=action(position,a.value)\n",
    "        \n",
    "        #filter valid positions after actions\n",
    "        if (safe_position(generatedPosition)):\n",
    "            succ.append(generatedPosition)\n",
    "    return succ"
   ]
  },
  {
   "cell_type": "code",
   "execution_count": 59,
   "id": "c69318e4",
   "metadata": {},
   "outputs": [
    {
     "data": {
      "text/plain": [
       "[{'parent': 2, 'position': 3, 'cost': 4, 'by': 'walk'},\n",
       " {'parent': 2, 'position': 4, 'cost': 5, 'by': 'magic_tram'}]"
      ]
     },
     "execution_count": 59,
     "metadata": {},
     "output_type": "execute_result"
    }
   ],
   "source": [
    "nextPosition({'parent': 1, 'position': 2, 'cost': 3})"
   ]
  },
  {
   "cell_type": "markdown",
   "id": "7c603fb4",
   "metadata": {},
   "source": [
    "## Test But"
   ]
  },
  {
   "cell_type": "code",
   "execution_count": 60,
   "id": "645b927b",
   "metadata": {},
   "outputs": [],
   "source": [
    "def testBut(position):\n",
    "    if position[\"position\"] ==finalState[\"position\"]:\n",
    "        return True\n",
    "    else:\n",
    "        return False"
   ]
  },
  {
   "cell_type": "markdown",
   "id": "53aa65b5",
   "metadata": {},
   "source": [
    "## Uniform Cost Search"
   ]
  },
  {
   "cell_type": "markdown",
   "id": "3a7a95e3",
   "metadata": {},
   "source": [
    "<p>This search method try to take the child with the lowest cost</p>"
   ]
  },
  {
   "cell_type": "code",
   "execution_count": 61,
   "id": "24536828",
   "metadata": {},
   "outputs": [],
   "source": [
    "def ucs(initialState_,verbose=False):\n",
    "    priorityFileStates=[initialState_]\n",
    "    exploredStates=list()\n",
    "    number_OfSteps=0\n",
    "    \n",
    "    \n",
    "    \n",
    "    while(True):\n",
    "        if priorityFileStates == []:\n",
    "            return\n",
    "        \n",
    "        \n",
    "        thisPosition=priorityFileStates.pop(0)\n",
    "        \n",
    "        exploredStates.append(thisPosition)\n",
    "        number_OfSteps+=1\n",
    "        if(testBut(thisPosition)):\n",
    "            return (exploredStates,\"done in {} steps\".format(number_OfSteps))\n",
    "           \n",
    "        \n",
    "        nextPositions_=nextPosition(thisPosition)\n",
    "        if verbose:\n",
    "            print(\"etape {} | {}\".format(number_OfSteps,nextPositions_))\n",
    "        \n",
    "        for n in nextPositions_:\n",
    "            i=0\n",
    "            while (i< len(priorityFileStates)):\n",
    "                    if( (priorityFileStates[i][\"cost\"]> n[\"cost\"])):\n",
    "                        priorityFileStates.insert(i,n)\n",
    "                        break\n",
    "                    i+=1\n",
    "            if(i==len(priorityFileStates)):\n",
    "                priorityFileStates.append(n)\n",
    "            \n",
    "                        \n",
    "\n",
    "                \n",
    "                    "
   ]
  },
  {
   "cell_type": "code",
   "execution_count": 62,
   "id": "62ba1976",
   "metadata": {},
   "outputs": [
    {
     "data": {
      "text/plain": [
       "([{'parent': None, 'position': 1, 'cost': 0, 'by': None},\n",
       "  {'parent': 1, 'position': 2, 'cost': 1, 'by': 'walk'},\n",
       "  {'parent': 1, 'position': 2, 'cost': 2, 'by': 'magic_tram'},\n",
       "  {'parent': 2, 'position': 3, 'cost': 2, 'by': 'walk'},\n",
       "  {'parent': 2, 'position': 4, 'cost': 3, 'by': 'magic_tram'},\n",
       "  {'parent': 2, 'position': 3, 'cost': 3, 'by': 'walk'},\n",
       "  {'parent': 3, 'position': 4, 'cost': 3, 'by': 'walk'},\n",
       "  {'parent': 2, 'position': 4, 'cost': 4, 'by': 'magic_tram'},\n",
       "  {'parent': 3, 'position': 6, 'cost': 4, 'by': 'magic_tram'},\n",
       "  {'parent': 4, 'position': 5, 'cost': 4, 'by': 'walk'},\n",
       "  {'parent': 3, 'position': 4, 'cost': 4, 'by': 'walk'},\n",
       "  {'parent': 4, 'position': 5, 'cost': 4, 'by': 'walk'},\n",
       "  {'parent': 4, 'position': 8, 'cost': 5, 'by': 'magic_tram'},\n",
       "  {'parent': 3, 'position': 6, 'cost': 5, 'by': 'magic_tram'},\n",
       "  {'parent': 4, 'position': 8, 'cost': 5, 'by': 'magic_tram'},\n",
       "  {'parent': 4, 'position': 5, 'cost': 5, 'by': 'walk'},\n",
       "  {'parent': 6, 'position': 7, 'cost': 5, 'by': 'walk'},\n",
       "  {'parent': 5, 'position': 6, 'cost': 5, 'by': 'walk'},\n",
       "  {'parent': 4, 'position': 5, 'cost': 5, 'by': 'walk'},\n",
       "  {'parent': 5, 'position': 6, 'cost': 5, 'by': 'walk'},\n",
       "  {'parent': 4, 'position': 8, 'cost': 6, 'by': 'magic_tram'},\n",
       "  {'parent': 5, 'position': 10, 'cost': 6, 'by': 'magic_tram'}],\n",
       " 'done in 22 steps')"
      ]
     },
     "execution_count": 62,
     "metadata": {},
     "output_type": "execute_result"
    }
   ],
   "source": [
    "ucs(initialState)"
   ]
  },
  {
   "cell_type": "code",
   "execution_count": 67,
   "id": "11447237",
   "metadata": {},
   "outputs": [],
   "source": [
    "def affiche(ucsResult):\n",
    "    r=ucsResult[0]\n",
    "    c=r.pop()\n",
    "    u=[c]\n",
    "    \n",
    "    while True:\n",
    "        if (c[\"parent\"]==None):\n",
    "            u.reverse()\n",
    "            return u\n",
    "        \n",
    "        s=r.pop()\n",
    "        \n",
    "        if(s[\"position\"]==c[\"parent\"]):\n",
    "            u.append(s)\n",
    "            c=s\n",
    "        \n",
    "                \n",
    "\n",
    "\n",
    "    "
   ]
  },
  {
   "cell_type": "code",
   "execution_count": 68,
   "id": "2beaecf6",
   "metadata": {},
   "outputs": [
    {
     "data": {
      "text/plain": [
       "[{'parent': None, 'position': 1, 'cost': 0, 'by': None},\n",
       " {'parent': 1, 'position': 2, 'cost': 2, 'by': 'magic_tram'},\n",
       " {'parent': 2, 'position': 3, 'cost': 3, 'by': 'walk'},\n",
       " {'parent': 3, 'position': 4, 'cost': 4, 'by': 'walk'},\n",
       " {'parent': 4, 'position': 5, 'cost': 5, 'by': 'walk'},\n",
       " {'parent': 5, 'position': 10, 'cost': 6, 'by': 'magic_tram'}]"
      ]
     },
     "execution_count": 68,
     "metadata": {},
     "output_type": "execute_result"
    }
   ],
   "source": [
    "affiche(ucs(initialState))"
   ]
  },
  {
   "cell_type": "code",
   "execution_count": null,
   "id": "18fdaef9",
   "metadata": {},
   "outputs": [],
   "source": []
  }
 ],
 "metadata": {
  "kernelspec": {
   "display_name": "Python 3 (ipykernel)",
   "language": "python",
   "name": "python3"
  },
  "language_info": {
   "codemirror_mode": {
    "name": "ipython",
    "version": 3
   },
   "file_extension": ".py",
   "mimetype": "text/x-python",
   "name": "python",
   "nbconvert_exporter": "python",
   "pygments_lexer": "ipython3",
   "version": "3.8.5"
  },
  "varInspector": {
   "cols": {
    "lenName": 16,
    "lenType": 16,
    "lenVar": 40
   },
   "kernels_config": {
    "python": {
     "delete_cmd_postfix": "",
     "delete_cmd_prefix": "del ",
     "library": "var_list.py",
     "varRefreshCmd": "print(var_dic_list())"
    },
    "r": {
     "delete_cmd_postfix": ") ",
     "delete_cmd_prefix": "rm(",
     "library": "var_list.r",
     "varRefreshCmd": "cat(var_dic_list()) "
    }
   },
   "types_to_exclude": [
    "module",
    "function",
    "builtin_function_or_method",
    "instance",
    "_Feature"
   ],
   "window_display": false
  }
 },
 "nbformat": 4,
 "nbformat_minor": 5
}
